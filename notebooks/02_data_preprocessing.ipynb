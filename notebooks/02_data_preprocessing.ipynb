{
 "cells": [
  {
   "cell_type": "markdown",
   "metadata": {},
   "source": [
    "## Handling Missing Values, Data Types, and Duplicates\n",
    "In this section, we clean the dataset by:\n",
    "- Removing columns or rows with excessive null values\n",
    "- Converting date columns to datetime format\n",
    "- Dropping duplicate records"
   ]
  },
  {
   "cell_type": "code",
   "execution_count": 6,
   "metadata": {},
   "outputs": [
    {
     "name": "stdout",
     "output_type": "stream",
     "text": [
      "Initial dataset shape: (15000, 19)\n",
      "<class 'pandas.core.frame.DataFrame'>\n",
      "RangeIndex: 15000 entries, 0 to 14999\n",
      "Data columns (total 19 columns):\n",
      " #   Column                  Non-Null Count  Dtype  \n",
      "---  ------                  --------------  -----  \n",
      " 0   job_id                  15000 non-null  object \n",
      " 1   job_title               15000 non-null  object \n",
      " 2   salary_usd              15000 non-null  int64  \n",
      " 3   salary_currency         15000 non-null  object \n",
      " 4   experience_level        15000 non-null  object \n",
      " 5   employment_type         15000 non-null  object \n",
      " 6   company_location        15000 non-null  object \n",
      " 7   company_size            15000 non-null  object \n",
      " 8   employee_residence      15000 non-null  object \n",
      " 9   remote_ratio            15000 non-null  int64  \n",
      " 10  required_skills         15000 non-null  object \n",
      " 11  education_required      15000 non-null  object \n",
      " 12  years_experience        15000 non-null  int64  \n",
      " 13  industry                15000 non-null  object \n",
      " 14  posting_date            15000 non-null  object \n",
      " 15  application_deadline    15000 non-null  object \n",
      " 16  job_description_length  15000 non-null  int64  \n",
      " 17  benefits_score          15000 non-null  float64\n",
      " 18  company_name            15000 non-null  object \n",
      "dtypes: float64(1), int64(4), object(14)\n",
      "memory usage: 2.2+ MB\n",
      "Dropping columns with too many missing values: []\n",
      "Missing values before dropna: 0\n",
      "Missing values after dropna: 0\n",
      "Dataset shape after removing missing values: (15000, 19)\n",
      "Removed 0 duplicate rows.\n"
     ]
    }
   ],
   "source": [
    "# Load the dataset\n",
    "import pandas as pd\n",
    "\n",
    "df = pd.read_csv(\"../data/ai_job_dataset.csv\")\n",
    "\n",
    "# Show initial info\n",
    "print(\"Initial dataset shape:\", df.shape)\n",
    "df.info()\n",
    "\n",
    "# Drop columns with excessive missing values if any\n",
    "threshold = 0.5  # drop columns with more than 50% NaNs\n",
    "null_ratios = df.isna().mean()\n",
    "cols_to_drop = null_ratios[null_ratios > threshold].index.tolist()\n",
    "print(\"Dropping columns with too many missing values:\", cols_to_drop)\n",
    "df.drop(columns=cols_to_drop, inplace=True)\n",
    "\n",
    "# Drop rows with any remaining missing values\n",
    "print(\"Missing values before dropna:\", df.isna().sum().sum())\n",
    "df.dropna(inplace=True)\n",
    "print(\"Missing values after dropna:\", df.isna().sum().sum())\n",
    "print(\"Dataset shape after removing missing values:\", df.shape)\n",
    "\n",
    "# Convert date columns to datetime\n",
    "if \"posting_date\" in df.columns:\n",
    "    df[\"posting_date\"] = pd.to_datetime(df[\"posting_date\"], errors=\"coerce\")\n",
    "\n",
    "if \"application_deadline\" in df.columns:\n",
    "    df[\"application_deadline\"] = pd.to_datetime(df[\"application_deadline\"], errors=\"coerce\")\n",
    "\n",
    "# Drop duplicate rows\n",
    "before = df.shape[0]\n",
    "df.drop_duplicates(inplace=True)\n",
    "after = df.shape[0]\n",
    "print(f\"Removed {before - after} duplicate rows.\")"
   ]
  },
  {
   "cell_type": "markdown",
   "metadata": {},
   "source": [
    "## Encoding Categorical Variables\n",
    "We transform categorical variables into numerical format to prepare the dataset for regression models. \n",
    "For simplicity, we use:\n",
    "- One-hot encoding for nominal features (e.g., country, company size)\n",
    "- Label encoding if only a few unique values are present"
   ]
  },
  {
   "cell_type": "code",
   "execution_count": 7,
   "metadata": {},
   "outputs": [
    {
     "name": "stdout",
     "output_type": "stream",
     "text": [
      "Categorical columns: ['job_id', 'job_title', 'salary_currency', 'experience_level', 'employment_type', 'company_location', 'company_size', 'employee_residence', 'required_skills', 'education_required', 'industry', 'company_name']\n",
      "job_id                15000\n",
      "job_title                20\n",
      "salary_currency           3\n",
      "experience_level          4\n",
      "employment_type           4\n",
      "company_location         20\n",
      "company_size              3\n",
      "employee_residence       20\n",
      "required_skills       13663\n",
      "education_required        4\n",
      "industry                 15\n",
      "company_name             16\n",
      "dtype: int64\n",
      "Dataset shape after one-hot encoding: (15000, 108)\n"
     ]
    }
   ],
   "source": [
    "# Preview categorical columns\n",
    "cat_cols = df.select_dtypes(include='object').columns.tolist()\n",
    "print(\"Categorical columns:\", cat_cols)\n",
    "print(df[cat_cols].nunique())\n",
    "\n",
    "# Apply one-hot encoding for categorical features with low to medium cardinality\n",
    "# (we avoid high-cardinality features for now to prevent dimensionality explosion)\n",
    "\n",
    "max_unique = 30  # adjustable threshold\n",
    "ohe_cols = [col for col in cat_cols if df[col].nunique() <= max_unique]\n",
    "\n",
    "df_encoded = pd.get_dummies(df, columns=ohe_cols, drop_first=True)\n",
    "\n",
    "print(\"Dataset shape after one-hot encoding:\", df_encoded.shape)"
   ]
  },
  {
   "cell_type": "markdown",
   "metadata": {},
   "source": [
    "## Feature Scaling\n",
    "To ensure that all numerical features contribute equally to the model, we scale them using StandardScaler.\n",
    "This is especially important for linear models and PCA-based techniques."
   ]
  },
  {
   "cell_type": "code",
   "execution_count": 8,
   "metadata": {},
   "outputs": [
    {
     "name": "stdout",
     "output_type": "stream",
     "text": [
      "Feature scaling applied.\n"
     ]
    }
   ],
   "source": [
    "from sklearn.preprocessing import StandardScaler\n",
    "\n",
    "# Select only numeric columns (excluding target if already chosen)\n",
    "numeric_cols = df_encoded.select_dtypes(include=['int64', 'float64']).columns.tolist()\n",
    "\n",
    "# OPTIONAL: remove target column from scaling\n",
    "# numeric_cols.remove('your_target_column')  # Uncomment and replace if needed\n",
    "\n",
    "scaler = StandardScaler()\n",
    "df_encoded[numeric_cols] = scaler.fit_transform(df_encoded[numeric_cols])\n",
    "\n",
    "print(\"Feature scaling applied.\")"
   ]
  }
 ],
 "metadata": {
  "kernelspec": {
   "display_name": "base",
   "language": "python",
   "name": "python3"
  },
  "language_info": {
   "codemirror_mode": {
    "name": "ipython",
    "version": 3
   },
   "file_extension": ".py",
   "mimetype": "text/x-python",
   "name": "python",
   "nbconvert_exporter": "python",
   "pygments_lexer": "ipython3",
   "version": "3.12.7"
  }
 },
 "nbformat": 4,
 "nbformat_minor": 2
}
